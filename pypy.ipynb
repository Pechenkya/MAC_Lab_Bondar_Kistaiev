{
 "cells": [
  {
   "cell_type": "code",
   "execution_count": 1,
   "metadata": {},
   "outputs": [],
   "source": [
    "from Poly import *\n",
    "from NTRU_api import *"
   ]
  },
  {
   "cell_type": "code",
   "execution_count": 2,
   "metadata": {},
   "outputs": [
    {
     "name": "stdout",
     "output_type": "stream",
     "text": [
      "try: 0\n",
      "try: 10\n",
      "try: 20\n",
      "try: 30\n",
      "try: 40\n",
      "try: 50\n",
      "try: 60\n",
      "try: 70\n",
      "try: 80\n",
      "try: 90\n",
      "try: 100\n",
      "try: 110\n",
      "try: 0\n",
      "try: 10\n",
      "try: 20\n",
      "try: 30\n",
      "try: 40\n",
      "try: 50\n",
      "try: 60\n",
      "try: 70\n",
      "try: 80\n",
      "try: 0\n",
      "try: 10\n",
      "try: 20\n",
      "try: 30\n",
      "try: 40\n",
      "try: 0\n"
     ]
    }
   ],
   "source": [
    "pkey, skey = NTRU_init_parameters(251, 127, 73, 71, 1, 310, NTRU_Methods.TRANSPOSE)"
   ]
  },
  {
   "cell_type": "code",
   "execution_count": 3,
   "metadata": {},
   "outputs": [
    {
     "ename": "KeyboardInterrupt",
     "evalue": "",
     "output_type": "error",
     "traceback": [
      "\u001b[1;31m---------------------------------------------------------------------------\u001b[0m",
      "\u001b[1;31mKeyboardInterrupt\u001b[0m                         Traceback (most recent call last)",
      "Cell \u001b[1;32mIn[3], line 2\u001b[0m\n\u001b[0;32m      1\u001b[0m mesaga \u001b[38;5;241m=\u001b[39m \u001b[38;5;124m\"\u001b[39m\u001b[38;5;124mfdsgjsgsidfowegrgldgxfkgbfgkd\u001b[39m\u001b[38;5;124m\"\u001b[39m\u001b[38;5;241m.\u001b[39mencode()\n\u001b[1;32m----> 2\u001b[0m signed \u001b[38;5;241m=\u001b[39m \u001b[43mNTRU_sign\u001b[49m\u001b[43m(\u001b[49m\u001b[43mmesaga\u001b[49m\u001b[43m,\u001b[49m\u001b[43m \u001b[49m\u001b[43mskey\u001b[49m\u001b[43m,\u001b[49m\u001b[43m \u001b[49m\u001b[43mpkey\u001b[49m\u001b[43m)\u001b[49m\n",
      "File \u001b[1;32mc:\\Users\\matki\\Документи\\GitHub\\Нова папка\\NTRU_api.py:59\u001b[0m, in \u001b[0;36mNTRU_sign\u001b[1;34m(Data, private_key, pub_key)\u001b[0m\n\u001b[0;32m     57\u001b[0m \u001b[38;5;28;01mfor\u001b[39;00m i \u001b[38;5;129;01min\u001b[39;00m \u001b[38;5;28mrange\u001b[39m(\u001b[38;5;241m0\u001b[39m, B):\n\u001b[0;32m     58\u001b[0m     x \u001b[38;5;241m=\u001b[39m (m \u001b[38;5;241m*\u001b[39m f_shtrih[i])\u001b[38;5;241m.\u001b[39mfloat_scalar_mult(\u001b[38;5;241m-\u001b[39m\u001b[38;5;241m1\u001b[39m\u001b[38;5;241m/\u001b[39mq)\n\u001b[1;32m---> 59\u001b[0m     y \u001b[38;5;241m=\u001b[39m (\u001b[43mm\u001b[49m\u001b[43m \u001b[49m\u001b[38;5;241;43m*\u001b[39;49m\u001b[43m \u001b[49m\u001b[43mf\u001b[49m\u001b[43m[\u001b[49m\u001b[43mi\u001b[49m\u001b[43m]\u001b[49m)\u001b[38;5;241m.\u001b[39mfloat_scalar_mult(\u001b[38;5;241m1\u001b[39m\u001b[38;5;241m/\u001b[39mq)\n\u001b[0;32m     60\u001b[0m     s_i \u001b[38;5;241m=\u001b[39m (x \u001b[38;5;241m*\u001b[39m f[i] \u001b[38;5;241m+\u001b[39m y \u001b[38;5;241m*\u001b[39m f_shtrih[i])\n\u001b[0;32m     61\u001b[0m     m \u001b[38;5;241m=\u001b[39m s_i \u001b[38;5;241m*\u001b[39m (h[i] \u001b[38;5;241m-\u001b[39m h[i \u001b[38;5;241m+\u001b[39m \u001b[38;5;241m1\u001b[39m]) \u001b[38;5;241m%\u001b[39m q\n",
      "File \u001b[1;32mc:\\Users\\matki\\Документи\\GitHub\\Нова папка\\Poly.py:135\u001b[0m, in \u001b[0;36mR.__mul__\u001b[1;34m(self, other)\u001b[0m\n\u001b[0;32m    133\u001b[0m other_a \u001b[38;5;241m=\u001b[39m np\u001b[38;5;241m.\u001b[39mflip(other\u001b[38;5;241m.\u001b[39ma)\n\u001b[0;32m    134\u001b[0m \u001b[38;5;28;01mfor\u001b[39;00m k \u001b[38;5;129;01min\u001b[39;00m \u001b[38;5;28mrange\u001b[39m(n):\n\u001b[1;32m--> 135\u001b[0m     res[k] \u001b[38;5;241m=\u001b[39m \u001b[38;5;28mself\u001b[39m\u001b[38;5;241m.\u001b[39ma\u001b[38;5;241m.\u001b[39mdot(\u001b[43mnp\u001b[49m\u001b[38;5;241;43m.\u001b[39;49m\u001b[43mroll\u001b[49m\u001b[43m(\u001b[49m\u001b[43mother_a\u001b[49m\u001b[43m,\u001b[49m\u001b[43m \u001b[49m\u001b[38;5;241;43m-\u001b[39;49m\u001b[43mn\u001b[49m\u001b[38;5;241;43m+\u001b[39;49m\u001b[43mk\u001b[49m\u001b[38;5;241;43m+\u001b[39;49m\u001b[38;5;241;43m1\u001b[39;49m\u001b[43m)\u001b[49m)\n\u001b[0;32m    137\u001b[0m \u001b[38;5;28;01mreturn\u001b[39;00m R(n, res)\n",
      "File \u001b[1;32mc:\\Users\\matki\\AppData\\Local\\Programs\\Python\\Python311\\Lib\\site-packages\\numpy\\core\\numeric.py:1208\u001b[0m, in \u001b[0;36mroll\u001b[1;34m(a, shift, axis)\u001b[0m\n\u001b[0;32m   1206\u001b[0m a \u001b[38;5;241m=\u001b[39m asanyarray(a)\n\u001b[0;32m   1207\u001b[0m \u001b[38;5;28;01mif\u001b[39;00m axis \u001b[38;5;129;01mis\u001b[39;00m \u001b[38;5;28;01mNone\u001b[39;00m:\n\u001b[1;32m-> 1208\u001b[0m     \u001b[38;5;28;01mreturn\u001b[39;00m roll(a\u001b[38;5;241m.\u001b[39mravel(), shift, \u001b[38;5;241m0\u001b[39m)\u001b[38;5;241m.\u001b[39mreshape(a\u001b[38;5;241m.\u001b[39mshape)\n\u001b[0;32m   1210\u001b[0m \u001b[38;5;28;01melse\u001b[39;00m:\n\u001b[0;32m   1211\u001b[0m     axis \u001b[38;5;241m=\u001b[39m normalize_axis_tuple(axis, a\u001b[38;5;241m.\u001b[39mndim, allow_duplicate\u001b[38;5;241m=\u001b[39m\u001b[38;5;28;01mTrue\u001b[39;00m)\n",
      "\u001b[1;31mKeyboardInterrupt\u001b[0m: "
     ]
    }
   ],
   "source": [
    "mesaga = \"fdsgjsgsidfowegrgldgxfkgbfgkd\".encode()\n",
    "signed = NTRU_sign(mesaga, skey, pkey)\n"
   ]
  },
  {
   "cell_type": "code",
   "execution_count": null,
   "metadata": {},
   "outputs": [],
   "source": [
    "print(NTRU_verify(signed, pkey))"
   ]
  }
 ],
 "metadata": {
  "kernelspec": {
   "display_name": "Python 3",
   "language": "python",
   "name": "python3"
  },
  "language_info": {
   "codemirror_mode": {
    "name": "ipython",
    "version": 3
   },
   "file_extension": ".py",
   "mimetype": "text/x-python",
   "name": "python",
   "nbconvert_exporter": "python",
   "pygments_lexer": "ipython3",
   "version": "3.11.5"
  }
 },
 "nbformat": 4,
 "nbformat_minor": 2
}
